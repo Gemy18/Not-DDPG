{
 "cells": [
  {
   "cell_type": "code",
   "execution_count": 1,
   "metadata": {
    "collapsed": false
   },
   "outputs": [],
   "source": [
    "%matplotlib inline\n",
    "\n",
    "import gym\n",
    "from gym import wrappers\n",
    "import itertools\n",
    "import numpy as np\n",
    "import os\n",
    "import random\n",
    "import sys\n",
    "import tensorflow as tf\n",
    "from IPython.display import clear_output\n",
    "\n",
    "if \"../\" not in sys.path:\n",
    "  sys.path.append(\"../\")\n",
    "\n",
    "from collections import deque, namedtuple"
   ]
  },
  {
   "cell_type": "code",
   "execution_count": 2,
   "metadata": {
    "collapsed": false
   },
   "outputs": [
    {
     "name": "stderr",
     "output_type": "stream",
     "text": [
      "[2017-02-04 20:02:32,686] Making new env: Breakout-v0\n"
     ]
    }
   ],
   "source": [
    "env = gym.envs.make('Breakout-v0')\n"
   ]
  },
  {
   "cell_type": "code",
   "execution_count": 3,
   "metadata": {
    "collapsed": false
   },
   "outputs": [],
   "source": [
    "valid_actions = [0,1,2,3]"
   ]
  },
  {
   "cell_type": "code",
   "execution_count": 4,
   "metadata": {
    "collapsed": false
   },
   "outputs": [],
   "source": [
    "def build_shared_network(X):\n",
    "    X = tf.to_float(X)/255.0\n",
    "    conv1 = tf.contrib.layers.conv2d(X, 32, 7, 3, activation_fn=tf.nn.relu, scope=\"conv1\")\n",
    "    conv2 = tf.contrib.layers.conv2d(conv1, 16, 5, 2, activation_fn=tf.nn.relu, scope=\"conv2\")\n",
    "    conv3 = tf.contrib.layers.conv2d(conv2, 16, 5, 2, activation_fn=tf.nn.relu, scope=\"conv3\")\n",
    "    return conv3"
   ]
  },
  {
   "cell_type": "code",
   "execution_count": 5,
   "metadata": {
    "collapsed": false
   },
   "outputs": [],
   "source": [
    "def copy_model_parameters(sess, estimator1, estimator2):\n",
    "    \"\"\"\n",
    "    Copies the model parameters of one estimator to another.\n",
    "\n",
    "    Args:\n",
    "      sess: Tensorflow session instance\n",
    "      estimator1: Estimator to copy the paramters from\n",
    "      estimator2: Estimator to copy the parameters to\n",
    "    \"\"\"\n",
    "    e1_params = [t for t in tf.trainable_variables() if t.name.startswith(estimator1.scope)]\n",
    "    e1_params = sorted(e1_params, key=lambda v: v.name)\n",
    "    e2_params = [t for t in tf.trainable_variables() if t.name.startswith(estimator2.scope)]\n",
    "    e2_params = sorted(e2_params, key=lambda v: v.name)\n",
    "\n",
    "    update_ops = []\n",
    "    for e1_v, e2_v in zip(e1_params, e2_params):\n",
    "        op = e2_v.assign(e1_v)\n",
    "        update_ops.append(op)\n",
    "\n",
    "    sess.run(update_ops)"
   ]
  },
  {
   "cell_type": "code",
   "execution_count": 6,
   "metadata": {
    "collapsed": true
   },
   "outputs": [],
   "source": [
    "def update_target_parameters(behavior, target, taw, sess):\n",
    "    \"\"\"\n",
    "    Copies the model parameters of one estimator to another.\n",
    "\n",
    "    Args:\n",
    "      sess: Tensorflow session instance\n",
    "      estimator1: Estimator to copy the paramters from\n",
    "      estimator2: Estimator to copy the parameters to\n",
    "    \"\"\"\n",
    "    e1_params = [t for t in tf.trainable_variables() if t.name.startswith(behavior.scope)]\n",
    "    e1_params = sorted(e1_params, key=lambda v: v.name)\n",
    "    e2_params = [t for t in tf.trainable_variables() if t.name.startswith(target.scope)]\n",
    "    e2_params = sorted(e2_params, key=lambda v: v.name)\n",
    "\n",
    "    update_ops = []\n",
    "    for e1_v, e2_v in zip(e1_params, e2_params):\n",
    "        op = e2_v.assign(taw * e1_v + (1-taw) * e2_v)\n",
    "        update_ops.append(op)\n",
    "\n",
    "    sess.run(update_ops)"
   ]
  },
  {
   "cell_type": "code",
   "execution_count": 7,
   "metadata": {
    "collapsed": false
   },
   "outputs": [],
   "source": [
    "class StateProcessor():\n",
    "    \"\"\"\n",
    "    Processes a raw Atari iamges. Resizes it and converts it to grayscale.\n",
    "    \"\"\"\n",
    "    def __init__(self):\n",
    "        # Build the Tensorflow graph\n",
    "        with tf.variable_scope(\"state_processor\"):\n",
    "            self.input_state = tf.placeholder(shape=[210, 160, 3], dtype=tf.uint8)\n",
    "            self.output=tf.image.rgb_to_grayscale(self.input_state)\n",
    "            self.output = tf.image.crop_to_bounding_box(self.output, 34, 0, 160, 160)\n",
    "            self.output = tf.image.resize_images(\n",
    "                self.output, [84, 84], method=tf.image.ResizeMethod.NEAREST_NEIGHBOR)\n",
    "            self.output=tf.squeeze(self.output)\n",
    "    def process(self, sess, state):\n",
    "        \"\"\"\n",
    "        Args:\n",
    "            sess: A Tensorflow session object\n",
    "            state: A [210, 160, 3] Atari RGB State\n",
    "\n",
    "        Returns:\n",
    "            A processed [84, 84, 1] state representing grayscale values.\n",
    "        \"\"\"\n",
    "        return sess.run(self.output, { self.input_state: state })"
   ]
  },
  {
   "cell_type": "code",
   "execution_count": 8,
   "metadata": {
    "collapsed": false,
    "scrolled": true
   },
   "outputs": [],
   "source": [
    "class actor :\n",
    "    def __init__(self, shared_scope='behaviour', batch_size=32, learning_rate=0.01):\n",
    "        scope='actor'\n",
    "        self.scope = scope+shared_scope\n",
    "        self.states = tf.placeholder(shape=[None, 84, 84, 4], dtype=tf.uint8, name=\"X\")\n",
    "\n",
    "        with tf.variable_scope(shared_scope, reuse=True):\n",
    "            conv3 = build_shared_network(self.states)\n",
    "\n",
    "        with tf.variable_scope(scope+shared_scope):\n",
    "            flattened = tf.contrib.layers.flatten(conv3)\n",
    "            self.fc1 = tf.contrib.layers.fully_connected(flattened, 256, activation_fn=tf.nn.relu)\n",
    "            self.fc2 = tf.contrib.layers.fully_connected(self.fc1, 64, activation_fn=tf.nn.relu)\n",
    "            self.fc3 = tf.contrib.layers.fully_connected(self.fc2, 64, activation_fn=tf.nn.relu)\n",
    "\n",
    "            self.fc_out = tf.contrib.layers.fully_connected(self.fc3, len(valid_actions), activation_fn=tf.nn.relu)\n",
    "            self.probs = tf.nn.softmax(self.fc_out)\n",
    "            \n",
    "            self.action_gradient = tf.placeholder(tf.float32,[None, 1])\n",
    "            self.weights = [t for t in tf.trainable_variables() if t.name.startswith(self.scope)]\n",
    "            self.params_grad = tf.gradients(self.probs, self.weights, -self.action_gradient)\n",
    "            grads = zip(self.params_grad, self.weights)\n",
    "            self.optimizer = tf.train.AdamOptimizer(learning_rate).apply_gradients(grads)\n",
    "\n",
    "\n",
    "        # tf.scalar_summary(self.loss.op.name, self.loss)\n",
    "        # tf.scalar_summary(self.entropy_mean.op.name, self.entropy_mean)\n",
    "        # tf.histogram_summary(self.entropy.op.name, self.entropy)\n",
    "\n",
    "\n",
    "    def predict(self, state, sess):\n",
    "        return sess.run(self.probs, { self.states: state })\n",
    "\n",
    "    def update(self, state, grads, sess):\n",
    "        sess = sess \n",
    "        feed_dict = { self.states: state, self.action_gradient: grads }\n",
    "        sess.run(self.optimizer, feed_dict)"
   ]
  },
  {
   "cell_type": "code",
   "execution_count": 9,
   "metadata": {
    "collapsed": false
   },
   "outputs": [],
   "source": [
    "class ValueEstimator:\n",
    "    \n",
    "    def __init__ (self, shared_scope, batch_size=32, scope='critic', learning_rate=1e-4):\n",
    "        self.learning_rate=learning_rate\n",
    "        self.batch_size = batch_size\n",
    "        self.scope = scope+shared_scope\n",
    "        with tf.variable_scope(scope+shared_scope):\n",
    "            self.states = tf.placeholder(shape=[None, 84, 84, 4], dtype=tf.uint8, name=\"X\")\n",
    "            self.actions = tf.placeholder(shape=[None, 1], dtype=tf.float32, name=\"actions\")\n",
    "            self.targets = tf.placeholder(shape=[None], dtype=tf.float32, name=\"targets\")\n",
    "        \n",
    "        with tf.variable_scope(shared_scope, reuse=False):\n",
    "            conv3 = build_shared_network(self.states)\n",
    "            \n",
    "        with tf.variable_scope(scope+shared_scope):\n",
    "            flattened = tf.contrib.layers.flatten(conv3)\n",
    "            self.a_fc = tf.contrib.layers.fully_connected(self.actions, 64, activation_fn=tf.nn.relu)\n",
    "            self.fc1 = tf.contrib.layers.fully_connected(flattened, 256, activation_fn=tf.nn.relu)\n",
    "            self.merge = tf.concat(1, [self.fc1, self.a_fc])\n",
    "            self.fc2 = tf.contrib.layers.fully_connected(self.merge, 64, activation_fn=tf.nn.relu)\n",
    "            self.fc3 = tf.contrib.layers.fully_connected(self.fc2, 64, activation_fn=tf.nn.relu)\n",
    "\n",
    "            self.predictions = tf.contrib.layers.fully_connected(self.fc3, 1, activation_fn=tf.nn.relu)\n",
    "            \n",
    "            self.loss = tf.squared_difference(self.predictions, self.targets)\n",
    "            self.losses = tf.reduce_mean(self.loss)\n",
    "        \n",
    "            self.optimizer = tf.train.AdamOptimizer(learning_rate=self.learning_rate)\n",
    "            self.train = self.optimizer.minimize(self.losses, global_step=tf.contrib.framework.get_global_step())\n",
    "            \n",
    "            self.grads = tf.gradients(self.predictions, self.actions)\n",
    "            \n",
    "    def predict (self, states, actions, sess):\n",
    "        return sess.run(self.predictions, {self.states: states, self.actions: actions})\n",
    "        \n",
    "    def update (self, states, actions, targets, sess):\n",
    "        losses, _ = sess.run([self.losses, self.train], {self.states: states, self.targets: targets, self.actions: actions})\n",
    "        return losses\n",
    "    \n",
    "    def gradient (self, states, actions, sess):\n",
    "        return sess.run(self.grads, {self.states: states, self.actions: actions})"
   ]
  },
  {
   "cell_type": "code",
   "execution_count": null,
   "metadata": {
    "collapsed": false
   },
   "outputs": [],
   "source": [
    "def DDPG (sess, \n",
    "          env, \n",
    "          behavior_v, \n",
    "          target_v, \n",
    "          behavior_policy,\n",
    "          target_policy,\n",
    "          project_dir, \n",
    "          state_processor,\n",
    "          num_episodes=100000, \n",
    "          replay_mem_size=500000, \n",
    "          replay_mem_init_size=50000, \n",
    "          update_target_estimator_every=10000, \n",
    "          discount_factor=0.99, \n",
    "          batch_size=32, \n",
    "          record_video_every=10):\n",
    "   \n",
    "\n",
    "    Transition = namedtuple(\"Transition\", [\"state\", \"action\", \"reward\", \"next_state\", \"done\"])\n",
    "\n",
    "    # The replay memory\n",
    "    replay_mem = []\n",
    "    \n",
    "    summary_dir = os.path.join(project_dir, \"summaries_{}\".format('tezy'))\n",
    "    if not os.path.exists(summary_dir):\n",
    "        os.makedirs(summary_dir)\n",
    "    summary_writer = tf.train.SummaryWriter(summary_dir)\n",
    "\n",
    "    # Create directories for checkpoints and summaries\n",
    "    checkpoint_dir = os.path.join(experiment_dir, \"checkpoints\")\n",
    "    checkpoint_path = os.path.join(checkpoint_dir, \"model\")\n",
    "    monitor_path = os.path.join(experiment_dir, \"monitorr\")\n",
    "\n",
    "    if not os.path.exists(checkpoint_dir):\n",
    "        os.makedirs(checkpoint_dir)\n",
    "    if not os.path.exists(monitor_path):\n",
    "        os.makedirs(monitor_path)\n",
    "\n",
    "    saver = tf.train.Saver()\n",
    "    # Load a previous checkpoint if we find one\n",
    "    latest_checkpoint = tf.train.latest_checkpoint(checkpoint_dir)\n",
    "    if latest_checkpoint:\n",
    "        print(\"Loading model checkpoint {}...\\n\".format(latest_checkpoint))\n",
    "        saver.restore(sess, latest_checkpoint)\n",
    "    \n",
    "    # Get the current time step\n",
    "    total_t = sess.run(tf.contrib.framework.get_global_step())\n",
    "\n",
    "    # Record videos\n",
    "    env = wrappers.Monitor(env, monitor_path, resume=True,\n",
    "                               video_callable=lambda count: count % record_video_every == 0)\n",
    "\n",
    "    # Populate the replay memory with initial experience\n",
    "    print(\"Populating replay memory...\")\n",
    "    state = env.reset()\n",
    "    state = state_processor.process(sess, state)\n",
    "    state = np.stack([state] * 4, axis=2)\n",
    "    i = 0\n",
    "    while True:\n",
    "        # TODO: Populate replay memory!\n",
    "        action = np.random.choice(len(valid_actions))\n",
    "        next_state, reward, done, _ = env.step(action)\n",
    "        next_state = np.concatenate((state_processor.process(sess, next_state).reshape((84,84,1)), state[:,:,:3]), axis=2)\n",
    "        replay_mem.append(Transition(state, action, reward, next_state, done))\n",
    "        state = next_state\n",
    "        i+=1\n",
    "        if done:\n",
    "            if i > replay_mem_init_size:\n",
    "                break\n",
    "            state = env.reset()\n",
    "            state = state_processor.process(sess, state)\n",
    "            state = np.stack([state] * 4, axis=2)\n",
    "        \n",
    "    for i_episode in range(num_episodes):\n",
    "        state=env.reset()\n",
    "        state = state_processor.process(sess, state)\n",
    "        state = np.stack([state] * 4, axis=2)\n",
    "        saver.save(sess, checkpoint_path)\n",
    "        total_reward = 0\n",
    "        lenght = 0\n",
    "        for t in itertools.count():\n",
    "            print (t)\n",
    "\n",
    "            actions_prob = behavior_policy.predict(np.reshape(state, (-1,84, 84, 4)), sess)[0]\n",
    "            action = np.random.choice(np.arange(len(actions_prob)),p=actions_prob)\n",
    "            nextstate, reward, done, _ = env.step(valid_actions[action])\n",
    "            nextstate = np.concatenate((state_processor.process(sess, nextstate).reshape((84,84,1)), state[:,:,:3]), axis=2)\n",
    "            \n",
    "            total_reward += reward\n",
    "            if len(replay_mem) == replay_mem_size:\n",
    "                replay_mem.pop(0)\n",
    "            replay_mem.append(Transition(state, action, reward, nextstate, done))\n",
    "            samples = random.sample(replay_mem, batch_size)\n",
    "            states_batch, action_batch, reward_batch, next_states_batch, done_batch = map(\n",
    "                                                                    np.array, zip(*samples))\n",
    "            \n",
    "            next_actions = target_policy.predict(next_states_batch, sess)\n",
    "            targets = reward_batch + np.reshape(np.invert(done_batch).astype(np.float32), (-1,)) * discount_factor * np.reshape(target_v.predict(next_states_batch,\n",
    "                                                                np.reshape(np.argmax(next_actions, axis=1), (-1, 1)), sess), (-1,))\n",
    "            behavior_v.update(states_batch, np.reshape(action_batch, (-1,1)), targets, sess)\n",
    "            actions_prob = behavior_policy.predict(states_batch, sess)\n",
    "            Q_ = behavior_v.gradient(states_batch, np.reshape(np.argmax(actions_prob, axis=1), (-1,1)), sess)\n",
    "            behavior_policy.update(states_batch, Q_[0], sess)\n",
    "            \n",
    "            if total_t % 5 == 0:\n",
    "                update_target_parameters(behavior=behavior_v, target=target_v, taw=0.01, sess=sess)\n",
    "                update_target_parameters(behavior=behavior_policy, target=target_policy, taw=0.01, sess=sess)\n",
    "            \n",
    "            \n",
    "            if done:\n",
    "                lenght = t\n",
    "                break\n",
    "                \n",
    "            state = nextstate\n",
    "            total_t += 1\n",
    "            clear_output()\n",
    "            \n",
    "        episode_summary = tf.Summary()\n",
    "        episode_summary.value.add(simple_value=total_reward, node_name='episode_reward', tag='episode_reward')\n",
    "        episode_summary.value.add(simple_value=lenght, node_name='episode_lenght', tag='episode_lenght')\n",
    "        summary_writer.add_summary(episode_summary, total_t)\n",
    "        summary_writer.flush()\n",
    "        "
   ]
  },
  {
   "cell_type": "code",
   "execution_count": null,
   "metadata": {
    "collapsed": false,
    "scrolled": true
   },
   "outputs": [
    {
     "name": "stdout",
     "output_type": "stream",
     "text": [
      "150\n"
     ]
    }
   ],
   "source": [
    "tf.reset_default_graph()\n",
    "\n",
    "experiment_dir = os.path.abspath(\"./experiments/{}\".format(env.spec.id))\n",
    "\n",
    "global_step = tf.Variable(0, name='global_step', trainable=False)\n",
    "    \n",
    "V_t = ValueEstimator(shared_scope='target')\n",
    "V_b = ValueEstimator(shared_scope='behaviour')\n",
    "\n",
    "P_t = actor(shared_scope='target')\n",
    "P_b = actor(shared_scope='behaviour')\n",
    "\n",
    "state_processor=StateProcessor()\n",
    "    \n",
    "try:\n",
    "    with tf.Session() as sess:\n",
    "        sess.run(tf.initialize_all_variables())\n",
    "        DDPG(sess, \n",
    "              env, \n",
    "              behavior_v=V_b, \n",
    "              target_v=V_t, \n",
    "              behavior_policy=P_b, \n",
    "              target_policy=P_t, \n",
    "              state_processor=state_processor, \n",
    "              project_dir=experiment_dir, \n",
    "              num_episodes=10000, \n",
    "              replay_mem_size=500000, \n",
    "              replay_mem_init_size=50000, \n",
    "              update_target_estimator_every=10000, \n",
    "              discount_factor=0.99, \n",
    "              batch_size=32)\n",
    "            \n",
    "except KeyboardInterrupt:\n",
    "    pass"
   ]
  },
  {
   "cell_type": "code",
   "execution_count": null,
   "metadata": {
    "collapsed": true
   },
   "outputs": [],
   "source": []
  },
  {
   "cell_type": "code",
   "execution_count": null,
   "metadata": {
    "collapsed": true
   },
   "outputs": [],
   "source": []
  },
  {
   "cell_type": "code",
   "execution_count": null,
   "metadata": {
    "collapsed": true
   },
   "outputs": [],
   "source": []
  }
 ],
 "metadata": {
  "kernelspec": {
   "display_name": "Python 2",
   "language": "python",
   "name": "python2"
  },
  "language_info": {
   "codemirror_mode": {
    "name": "ipython",
    "version": 2
   },
   "file_extension": ".py",
   "mimetype": "text/x-python",
   "name": "python",
   "nbconvert_exporter": "python",
   "pygments_lexer": "ipython2",
   "version": "2.7.11+"
  }
 },
 "nbformat": 4,
 "nbformat_minor": 2
}
